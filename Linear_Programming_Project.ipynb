{
 "cells": [
  {
   "cell_type": "markdown",
   "id": "f017f1ee",
   "metadata": {},
   "source": [
    "## Production Planning Problem:\n",
    "\n",
    ">A company produces three products, Product A, Product B, and Product C. \n",
    "\n",
    ">Each unit of Product A requires 2 hours of labor, 3 units of raw material, and generates a profit of 10 dollars. \n",
    "\n",
    ">Each unit of Product B requires 3 hours of labor, 2 units of raw material, and generates a profit of 12 dollars. \n",
    "\n",
    ">Each unit of Product C requires 4 hours of labor, 4 units of raw material, and generates a profit of 15 dollars. \n",
    "\n",
    ">The company has 80 hours of labor available per day and 90 units of raw material available per day. \n",
    "\n",
    ">Additionally, there are sales constraints that limit the maximum number of units sold for each product. The sales constraints are as follows:\n",
    "\n",
    "* The maximum number of units sold for Product A is 30.\n",
    "* The maximum number of units sold for Product B is 20.\n",
    "* The maximum number of units sold for Product C is 25."
   ]
  },
  {
   "cell_type": "markdown",
   "id": "9b03a5e4",
   "metadata": {},
   "source": [
    "### objective function\n",
    "\n",
    "$$\\text{Maximize:} 10x + 12y + 15z$$"
   ]
  },
  {
   "cell_type": "markdown",
   "id": "ad597b00",
   "metadata": {},
   "source": [
    "### subject to"
   ]
  },
  {
   "cell_type": "markdown",
   "id": "e7d71822",
   "metadata": {},
   "source": [
    "$$2x + 3y +4z<= 80$$\n",
    "$$3x + 2y +4z<= 90$$\n",
    "$$x <= 30$$\n",
    "$$y <= 20$$\n",
    "$$z <= 25$$"
   ]
  },
  {
   "cell_type": "code",
   "execution_count": 24,
   "id": "77d1df11",
   "metadata": {},
   "outputs": [],
   "source": [
    "from pulp import *"
   ]
  },
  {
   "cell_type": "code",
   "execution_count": 25,
   "id": "a77bd040",
   "metadata": {},
   "outputs": [],
   "source": [
    "problem = LpProblem('Production_Planning', LpMaximize)"
   ]
  },
  {
   "cell_type": "code",
   "execution_count": 26,
   "id": "a2004a25",
   "metadata": {},
   "outputs": [
    {
     "name": "stdout",
     "output_type": "stream",
     "text": [
      "Optimal Solution:\n",
      "Product A: 22.0\n",
      "Product B: 12.0\n",
      "Product C: 0.0\n",
      "Maximum Daily Profit: 364.0\n"
     ]
    }
   ],
   "source": [
    "# Decision Variables\n",
    "x = LpVariable('Product_A', lowBound=0, cat=LpInteger)\n",
    "y = LpVariable('Product_B', lowBound=0, cat=LpInteger)\n",
    "z = LpVariable('Product_C', lowBound=0, cat=LpInteger)\n",
    "\n",
    "# Objective Function\n",
    "problem += 10 * x + 12 * y + 15 * z\n",
    "\n",
    "# Constraints\n",
    "problem += 2 * x + 3 * y + 4 * z <= 80  # Labor Constraint\n",
    "problem += 3 * x + 2 * y + 4 * z <= 90  # Raw Material Constraint\n",
    "problem += x <= 30                      # Sales Constraint for Product A\n",
    "problem += y <= 20                      # Sales Constraint for Product B\n",
    "problem += z <= 25                      # Sales Constraint for Product C\n",
    "\n",
    "# Solve the problem\n",
    "problem.solve()\n",
    "\n",
    "# Print the optimal solution\n",
    "print(\"Optimal Solution:\")\n",
    "print(\"Product A:\", value(x))\n",
    "print(\"Product B:\", value(y))\n",
    "print(\"Product C:\", value(z))\n",
    "print(\"Maximum Daily Profit:\", value(problem.objective))"
   ]
  },
  {
   "cell_type": "markdown",
   "id": "6be80e4c",
   "metadata": {},
   "source": [
    "### In conclusion, to maximize profit we should produce 22 units of product A, 12 units of product B and 0 units of product C for a maximum daily profit of 364 dollars"
   ]
  }
 ],
 "metadata": {
  "kernelspec": {
   "display_name": "Python 3 (ipykernel)",
   "language": "python",
   "name": "python3"
  },
  "language_info": {
   "codemirror_mode": {
    "name": "ipython",
    "version": 3
   },
   "file_extension": ".py",
   "mimetype": "text/x-python",
   "name": "python",
   "nbconvert_exporter": "python",
   "pygments_lexer": "ipython3",
   "version": "3.10.6"
  }
 },
 "nbformat": 4,
 "nbformat_minor": 5
}
